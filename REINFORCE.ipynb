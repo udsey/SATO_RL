{
  "nbformat": 4,
  "nbformat_minor": 0,
  "metadata": {
    "colab": {
      "name": "REINFORCE.ipynb",
      "provenance": [],
      "authorship_tag": "ABX9TyM79ATkZda2ytbLED0EKXa+",
      "include_colab_link": true
    },
    "kernelspec": {
      "name": "python3",
      "display_name": "Python 3"
    },
    "language_info": {
      "name": "python"
    }
  },
  "cells": [
    {
      "cell_type": "markdown",
      "metadata": {
        "id": "view-in-github",
        "colab_type": "text"
      },
      "source": [
        "<a href=\"https://colab.research.google.com/github/udsey/SATO_RL/blob/main/REINFORCE.ipynb\" target=\"_parent\"><img src=\"https://colab.research.google.com/assets/colab-badge.svg\" alt=\"Open In Colab\"/></a>"
      ]
    },
    {
      "cell_type": "code",
      "metadata": {
        "id": "PehUKZauKE-g"
      },
      "source": [
        "!pip install plotly==4.7.1\n",
        "!wget https://github.com/plotly/orca/releases/download/v1.2.1/orca-1.2.1-x86_64.AppImage -O /usr/local/bin/orca\n",
        "!chmod +x /usr/local/bin/orca\n",
        "!apt-get install xvfb libgtk2.0-0 libgconf-2-4"
      ],
      "execution_count": null,
      "outputs": []
    },
    {
      "cell_type": "code",
      "metadata": {
        "id": "_EbOv9ZGKIzL"
      },
      "source": [
        "import numpy as np\n",
        "import matplotlib.pyplot as plt\n",
        "import seaborn as sns\n",
        "import pandas as pd\n",
        "import plotly.graph_objects as go\n",
        "import gc"
      ],
      "execution_count": 2,
      "outputs": []
    },
    {
      "cell_type": "markdown",
      "metadata": {
        "id": "l-oZCpuaKN83"
      },
      "source": [
        "# Функции"
      ]
    },
    {
      "cell_type": "code",
      "metadata": {
        "id": "pttBCRB6KQGM"
      },
      "source": [
        "# Для отрисовки статического изображения в git\n",
        "import plotly.io as pio\n",
        "svg_renderer = pio.renderers[\"svg\"]\n",
        "svg_renderer.width = 1300\n",
        "svg_renderer.height = 600\n",
        "svg_renderer.engine = 'kaleido' #static image generation dependency, install it using pip or conda.\n",
        "\n",
        "pio.renderers.default = \"svg\"  # set as default renderer (optional)"
      ],
      "execution_count": 3,
      "outputs": []
    },
    {
      "cell_type": "code",
      "metadata": {
        "id": "8QeyaUPcKQq2"
      },
      "source": [
        "def limit_plot(df, return_df = False):\n",
        "    import plotly.graph_objects as go\n",
        "    df_lim = df.copy()\n",
        "    df_lim['x'] = df_lim.apply(lambda x: np.arange(x[0], x[1], 0.001), axis=1)\n",
        "    df_lim = df_lim.explode('x')\n",
        "    df_lim.drop(columns=df_lim.columns[0:2], inplace=True)\n",
        "    df_lim.rename(columns={df_lim.columns[0]:'y'}, inplace=True)\n",
        "    fig = go.Figure()\n",
        "    fig.add_trace(go.Scatter(x=df_lim.x, y=df_lim.y, name='speed limit'))\n",
        "    fig.show()\n",
        "    if return_df == True:\n",
        "        return df_lim\n",
        "def plot_stat(hist, total_reward_list):\n",
        "    plt.figure(figsize=(12, 6))\n",
        "    plt.subplot(1, 2, 1)\n",
        "    plt.plot(hist)\n",
        "    plt.title('Iteration number') \n",
        "    plt.subplot(1, 2, 2)\n",
        "    plt.plot(total_reward_list)\n",
        "    plt.title('Total reward')      \n",
        "\n",
        "def plot_result(df):\n",
        "    fig = go.Figure()\n",
        "    fig.add_trace(go.Scatter(x=df_limit_speed.x, y=df_limit_speed.y, name='speed limit'))\n",
        "    fig.add_trace(go.Scatter(x = df.position, y = df.speed, name='train movement'))\n",
        "    fig.show('svg')\n",
        "\n",
        "def min_time(s, v, a=0.5):\n",
        "    s*=1000\n",
        "    v = v / 3.6\n",
        "    t = v/a\n",
        "    s_0 = a*t**2/2\n",
        "    s_ost = s-s_0\n",
        "    t_1 = s_ost/v\n",
        "    t_min  = t+t_1\n",
        "    return t_min"
      ],
      "execution_count": 4,
      "outputs": []
    },
    {
      "cell_type": "markdown",
      "metadata": {
        "id": "6VRUvDI6KTKl"
      },
      "source": [
        "# Модель поезда"
      ]
    },
    {
      "cell_type": "markdown",
      "metadata": {
        "id": "bVbB5oscKWAX"
      },
      "source": [
        "Состояние - позиция с точностью до метра\n",
        "\n",
        "Действие - ускорение в диапазоне [-0.5, 0.5]\n",
        "\n",
        "Вознграждения -\n",
        "\n",
        "* -1000 - движение в обратном направлении\n",
        "* -500 - превышение скорости\n",
        "* -100 - превышение лимита времени\n",
        "* +1 - движение со скоростью близкой к скоростному лимиту"
      ]
    },
    {
      "cell_type": "code",
      "metadata": {
        "id": "DEIYnuwvKdAn"
      },
      "source": [
        "class Train:\n",
        "\n",
        "\n",
        "    def __init__(self, time_limit=2000, v_limit=100, s_limit=300, dt=10):\n",
        "        self.time_limit = time_limit # s\n",
        "        self.v_limit = v_limit # km/h\n",
        "        self.s_limit = s_limit # km\n",
        "        self.state_space = np.arange(0, self.s_limit, 0.001) # m\n",
        "        self.action_space = np.arange(-0.4, 0.5, 0.1) # m/s^2\n",
        "        self.dt = dt / 3600 # h\n",
        "        self.df_limit = pd.DataFrame({'start': [0],\n",
        "                                      'stop': [self.s_limit],\n",
        "                                      'limit': self.v_limit,})\n",
        "\n",
        "# Добавление ограничений скорости на участке\n",
        "\n",
        "    def append_velocity_limit(self, limit, start, stop):\n",
        "        self.df_limit = self.df_limit.append({'start': start,\n",
        "                                              'stop': stop,\n",
        "                                              'limit': limit,}, ignore_index=True)\n",
        "        return self.df_limit\n",
        "# Сброс скоростного ограничения к одному на всем участке\n",
        "    def reset_velocity_limit(self):\n",
        "        self.append_velocity_limit(self, limit=self.v_limit, \n",
        "                                   position=range(0, self.s_limit))\n",
        "# Сброс окружения к начальному значению\n",
        "    def reset(self):\n",
        "        self.s = 0\n",
        "        self.v = 0\n",
        "        self.a = 0\n",
        "        self.done = False\n",
        "        self.total_time = 0\n",
        "        self.reward = 0\n",
        "        self.v_list = []\n",
        "        self.s_list = []\n",
        "        self.t_list = []\n",
        "        self.a_list = []\n",
        "        return self.s\n",
        "\n",
        "# Возвращает скоростное ограничение на текущем участке \n",
        "    def speed_limit(self):\n",
        "        if self.s < 0:\n",
        "            return self.df_limit.iloc[0, 2]\n",
        "    \n",
        "        for i in range(self.df_limit.shape[0]):\n",
        "            min_p = self.df_limit.iloc[i, 0]\n",
        "            max_p = self.df_limit.iloc[i, 1]\n",
        "            if min_p <= self.s <= max_p:\n",
        "                return self.df_limit.iloc[i, 2]\n",
        "            else:\n",
        "                return min_p\n",
        "# Возвращает награду в соответствии с текущим состоянием\n",
        "    def reward_func(self):\n",
        "        if self.s < 0: # Уехал в обратную сторону\n",
        "            return -1000, True\n",
        "        if self.s >= self.s_limit: # Доехал до точки назначения\n",
        "            self.s = self.s_limit\n",
        "            return 100, True\n",
        "        if self.total_time > self.time_limit/3600: # Превысил время\n",
        "            return -100, True\n",
        "        if self.v > self.speed_limit(): # Превысил скорость\n",
        "            return -500, True\n",
        "        if self.speed_limit()/2 <= self.v <= self.speed_limit():\n",
        "            return 1, False\n",
        "        else:\n",
        "            return 0, False\n",
        "        \n",
        "        \n",
        "\n",
        "# Шаг для заданного действия\n",
        "    def step(self, action):\n",
        "        \n",
        "        self.total_time += self.dt # h\n",
        "        self.a = self.action_space[action] * (3600**2 / 1000) # km/h^2\n",
        "        self.s += self.v * self.dt + (self.a * (self.dt ** 2))/2 #km\n",
        "        self.v += (self.a * self.dt) # km/h\n",
        "        if self.v < 0 :\n",
        "            self.v = 0\n",
        "\n",
        "        self.reward, self.done = self.reward_func()\n",
        "\n",
        "        self.v_list.append(self.v)\n",
        "        self.t_list.append(self.total_time)\n",
        "        self.s_list.append(self.s)\n",
        "        self.a_list.append(self.a)\n",
        "\n",
        "        return  int(np.round(self.s, 3)*1000)-1, self.reward, self.done\n",
        "\n",
        "# Справочная информация о движении\n",
        "    def action_info(self, action):\n",
        "        print('*'*20)\n",
        "        print('Ускорение {:.2f} м/с^2'.format(self.action_space[action]))\n",
        "        print('Скорость {:.2f} км/ч' .format(self.v)),\n",
        "        print('Пройденный путь {:.6f} км'.format(self.s))\n",
        "        print('Штраф', self.reward)\n",
        "        print('*'*20)\n",
        "\n",
        "# Возвращает данные о скорости на каждом участке        \n",
        "    def speed_legend(self):\n",
        "        df = pd.DataFrame(columns=['time', 'position', 'speed', 'acceleration'])\n",
        "        df.time = self.t_list\n",
        "        df.position = self.s_list\n",
        "        df.speed = self.v_list\n",
        "        df.acceleration = self.a_list\n",
        "        return df"
      ],
      "execution_count": 5,
      "outputs": []
    },
    {
      "cell_type": "markdown",
      "metadata": {
        "id": "wqurEDS_Kf5H"
      },
      "source": [
        "# REINFORCE"
      ]
    },
    {
      "cell_type": "code",
      "metadata": {
        "id": "mXHv0WK6Kih3"
      },
      "source": [
        "def policy(state, w):\n",
        "    z = state * np.array(w[state])\n",
        "    exp = np.exp(z)\n",
        "    exp = exp/np.sum(exp)\n",
        "    #res = exp/np.sum(exp, axis=1)\n",
        "    #res[np.argwhere(res<=0)] = 0.00001\n",
        "    #res[np.argwhere(res>=1)] = 0.99999\n",
        "    exp[np.argwhere(np.isnan(exp))] = 1e-10\n",
        "    \n",
        "    return exp\n",
        "\n",
        "\n",
        "def softmax_grad(softmax):\n",
        "    s = softmax.reshape(-1, 1)\n",
        "    return np.diagflat(s) - np.dot(s, s.T)\n",
        "\n",
        "def reinforce_fit(env, alpha=1, gamma=1, epochs=1000):\n",
        "    \n",
        "    state_space = env.state_space.shape\n",
        "    action_space = env.action_space.shape\n",
        "    w = np.zeros(shape = (state_space + action_space))\n",
        "    hist = []\n",
        "    episode_rewards = []\n",
        "    for epoch in range(epochs): \n",
        "        state = env.reset()\n",
        "        grads = []\n",
        "        rewards = []\n",
        "        score = 0\n",
        "        while True:\n",
        "            probs = policy(state, w)\n",
        "            action = np.random.multinomial(n = action_space[0], pvals=probs)\n",
        "            #action = np.random.choice(np.where(action==np.max(action))[0])\n",
        "            action = np.argmax(action)\n",
        "            next_state, reward, done = env.step(action)\n",
        "            dsoftmax = softmax_grad(probs)[action]\n",
        "            dlog = dsoftmax/probs\n",
        "            grad = np.dot(state, dlog)\n",
        "            grads.append(grad)\n",
        "            rewards.append(reward)\n",
        "            score+=reward\n",
        "            state = next_state\n",
        "            \n",
        "            if done:\n",
        "                break\n",
        "        hist.append(len(rewards))\n",
        "        episode_rewards.append(score) \n",
        "        for i in range(len(grads)):\n",
        "            w += alpha * np.array(grads[i]) * sum([ r * (gamma ** t) for t,r in enumerate(rewards[i:])])\n",
        "        \n",
        "\n",
        "        if epoch % 10 == 0:\n",
        "            print('#'*20)\n",
        "            print('Epoch #', epoch, 'Reward:', score, 'Distance m:', round(train.s*1000, 2))\n",
        "            print()\n",
        "        \n",
        "    plot_stat(hist, total_reward_list = episode_rewards)\n",
        "    return w, action_space\n",
        "\n",
        "def reinforce_predict(env, w, action_space, total_test_episodes=10):\n",
        "    \n",
        "    import time\n",
        "    import gc\n",
        "    gc.collect()\n",
        "    rewards = []\n",
        "    frames = []\n",
        "    \n",
        "    for episode in range(total_test_episodes):\n",
        "        reward_list = []\n",
        "        state = env.reset()\n",
        "        done = False\n",
        "        total_rewards = 0\n",
        "        print(\"****************************************************\")\n",
        "        print(\"EPISODE \", episode)\n",
        "        while True:\n",
        "            #env.render()\n",
        "            probs = policy(state, w)\n",
        "            action = np.random.multinomial(n = action_space[0], pvals=probs)\n",
        "            action = np.argmax(action)\n",
        "            new_state, reward, done = env.step(action)\n",
        "            total_rewards += reward\n",
        "            reward_list.append(reward)\n",
        "            if done:\n",
        "                rewards.append(total_rewards)\n",
        "                print(\"Score\", total_rewards)\n",
        "                time.sleep(1)\n",
        "                break\n",
        "            state = new_state\n",
        "    print('Reward list:', reward_list)\n",
        "    print (\"Score over time: \" +  str(sum(rewards)/total_test_episodes))"
      ],
      "execution_count": 6,
      "outputs": []
    },
    {
      "cell_type": "markdown",
      "metadata": {
        "id": "O8-gpxaRKmIT"
      },
      "source": [
        "# Предсказание"
      ]
    },
    {
      "cell_type": "code",
      "metadata": {
        "id": "oxsXE313KoOp"
      },
      "source": [
        "v = 100\n",
        "s = 1\n",
        "t = int(min_time(s, v))*3 # Лимит по времени - в 3 раза больше минимального времени"
      ],
      "execution_count": 7,
      "outputs": []
    },
    {
      "cell_type": "code",
      "metadata": {
        "colab": {
          "base_uri": "https://localhost:8080/",
          "height": 621
        },
        "id": "J_UnXbDxKsUo",
        "outputId": "0050d949-85c1-4704-ae5d-9e4a0bde1dfa"
      },
      "source": [
        "train = Train(s_limit=s, time_limit=t, v_limit=v, dt = 1)\n",
        "train.reset()\n",
        "df_limit_speed = limit_plot(train.df_limit, return_df=True)"
      ],
      "execution_count": 8,
      "outputs": [
        {
          "output_type": "display_data",
          "data": {
            "image/svg+xml": "<svg class=\"main-svg\" xmlns=\"http://www.w3.org/2000/svg\" xmlns:xlink=\"http://www.w3.org/1999/xlink\" width=\"1300\" height=\"600\" viewBox=\"0 0 1300 600\"><rect x=\"0\" y=\"0\" width=\"1300\" height=\"600\" style=\"fill: rgb(255, 255, 255); fill-opacity: 1;\"/><defs id=\"defs-c9e047\"><g class=\"clips\"><clipPath id=\"clipc9e047xyplot\" class=\"plotclip\"><rect width=\"1140\" height=\"420\"/></clipPath><clipPath class=\"axesclip\" id=\"clipc9e047x\"><rect x=\"80\" y=\"0\" width=\"1140\" height=\"600\"/></clipPath><clipPath class=\"axesclip\" id=\"clipc9e047y\"><rect x=\"0\" y=\"100\" width=\"1300\" height=\"420\"/></clipPath><clipPath class=\"axesclip\" id=\"clipc9e047xy\"><rect x=\"80\" y=\"100\" width=\"1140\" height=\"420\"/></clipPath></g><g class=\"gradients\"/></defs><g class=\"bglayer\"><rect class=\"bg\" x=\"80\" y=\"100\" width=\"1140\" height=\"420\" style=\"fill: rgb(229, 236, 246); fill-opacity: 1; stroke-width: 0;\"/></g><g class=\"layer-below\"><g class=\"imagelayer\"/><g class=\"shapelayer\"/></g><g class=\"cartesianlayer\"><g class=\"subplot xy\"><g class=\"layer-subplot\"><g class=\"shapelayer\"/><g class=\"imagelayer\"/></g><g class=\"gridlayer\"><g class=\"x\"><path class=\"xgrid crisp\" transform=\"translate(194.11,0)\" d=\"M0,100v420\" style=\"stroke: rgb(255, 255, 255); stroke-opacity: 1; stroke-width: 1px;\"/><path class=\"xgrid crisp\" transform=\"translate(308.23,0)\" d=\"M0,100v420\" style=\"stroke: rgb(255, 255, 255); stroke-opacity: 1; stroke-width: 1px;\"/><path class=\"xgrid crisp\" transform=\"translate(422.34,0)\" d=\"M0,100v420\" style=\"stroke: rgb(255, 255, 255); stroke-opacity: 1; stroke-width: 1px;\"/><path class=\"xgrid crisp\" transform=\"translate(536.46,0)\" d=\"M0,100v420\" style=\"stroke: rgb(255, 255, 255); stroke-opacity: 1; stroke-width: 1px;\"/><path class=\"xgrid crisp\" transform=\"translate(650.57,0)\" d=\"M0,100v420\" style=\"stroke: rgb(255, 255, 255); stroke-opacity: 1; stroke-width: 1px;\"/><path class=\"xgrid crisp\" transform=\"translate(764.68,0)\" d=\"M0,100v420\" style=\"stroke: rgb(255, 255, 255); stroke-opacity: 1; stroke-width: 1px;\"/><path class=\"xgrid crisp\" transform=\"translate(878.8,0)\" d=\"M0,100v420\" style=\"stroke: rgb(255, 255, 255); stroke-opacity: 1; stroke-width: 1px;\"/><path class=\"xgrid crisp\" transform=\"translate(992.91,0)\" d=\"M0,100v420\" style=\"stroke: rgb(255, 255, 255); stroke-opacity: 1; stroke-width: 1px;\"/><path class=\"xgrid crisp\" transform=\"translate(1107.03,0)\" d=\"M0,100v420\" style=\"stroke: rgb(255, 255, 255); stroke-opacity: 1; stroke-width: 1px;\"/></g><g class=\"y\"><path class=\"ygrid crisp\" transform=\"translate(0,415)\" d=\"M80,0h1140\" style=\"stroke: rgb(255, 255, 255); stroke-opacity: 1; stroke-width: 1px;\"/><path class=\"ygrid crisp\" transform=\"translate(0,310)\" d=\"M80,0h1140\" style=\"stroke: rgb(255, 255, 255); stroke-opacity: 1; stroke-width: 1px;\"/><path class=\"ygrid crisp\" transform=\"translate(0,205)\" d=\"M80,0h1140\" style=\"stroke: rgb(255, 255, 255); stroke-opacity: 1; stroke-width: 1px;\"/></g></g><g class=\"zerolinelayer\"><path class=\"xzl zl crisp\" transform=\"translate(80,0)\" d=\"M0,100v420\" style=\"stroke: rgb(255, 255, 255); stroke-opacity: 1; stroke-width: 2px;\"/></g><path class=\"xlines-below\"/><path class=\"ylines-below\"/><g class=\"overlines-below\"/><g class=\"xaxislayer-below\"/><g class=\"yaxislayer-below\"/><g class=\"overaxes-below\"/><g class=\"plot\" transform=\"translate(80, 100)\" clip-path=\"url('#clipc9e047xyplot')\"><g class=\"scatterlayer mlayer\"><g class=\"trace scatter trace2b9764\" style=\"stroke-miterlimit: 2; opacity: 1;\"><g class=\"fills\"/><g class=\"errorbars\"/><g class=\"lines\"><path class=\"js-line\" d=\"M0,210L1140,210\" style=\"vector-effect: non-scaling-stroke; fill: none; stroke: rgb(99, 110, 250); stroke-opacity: 1; stroke-width: 2px; opacity: 1;\"/></g><g class=\"points\"/><g class=\"text\"/></g></g></g><g class=\"overplot\"/><path class=\"xlines-above crisp\" d=\"M0,0\" style=\"fill: none;\"/><path class=\"ylines-above crisp\" d=\"M0,0\" style=\"fill: none;\"/><g class=\"overlines-above\"/><g class=\"xaxislayer-above\"><g class=\"xtick\"><text text-anchor=\"middle\" x=\"0\" y=\"533\" transform=\"translate(80,0)\" style=\"font-family: 'Open Sans', verdana, arial, sans-serif; font-size: 12px; fill: rgb(42, 63, 95); fill-opacity: 1; white-space: pre;\">0</text></g><g class=\"xtick\"><text text-anchor=\"middle\" x=\"0\" y=\"533\" transform=\"translate(194.11,0)\" style=\"font-family: 'Open Sans', verdana, arial, sans-serif; font-size: 12px; fill: rgb(42, 63, 95); fill-opacity: 1; white-space: pre;\">0.1</text></g><g class=\"xtick\"><text text-anchor=\"middle\" x=\"0\" y=\"533\" transform=\"translate(308.23,0)\" style=\"font-family: 'Open Sans', verdana, arial, sans-serif; font-size: 12px; fill: rgb(42, 63, 95); fill-opacity: 1; white-space: pre;\">0.2</text></g><g class=\"xtick\"><text text-anchor=\"middle\" x=\"0\" y=\"533\" transform=\"translate(422.34,0)\" style=\"font-family: 'Open Sans', verdana, arial, sans-serif; font-size: 12px; fill: rgb(42, 63, 95); fill-opacity: 1; white-space: pre;\">0.3</text></g><g class=\"xtick\"><text text-anchor=\"middle\" x=\"0\" y=\"533\" transform=\"translate(536.46,0)\" style=\"font-family: 'Open Sans', verdana, arial, sans-serif; font-size: 12px; fill: rgb(42, 63, 95); fill-opacity: 1; white-space: pre;\">0.4</text></g><g class=\"xtick\"><text text-anchor=\"middle\" x=\"0\" y=\"533\" transform=\"translate(650.57,0)\" style=\"font-family: 'Open Sans', verdana, arial, sans-serif; font-size: 12px; fill: rgb(42, 63, 95); fill-opacity: 1; white-space: pre;\">0.5</text></g><g class=\"xtick\"><text text-anchor=\"middle\" x=\"0\" y=\"533\" transform=\"translate(764.68,0)\" style=\"font-family: 'Open Sans', verdana, arial, sans-serif; font-size: 12px; fill: rgb(42, 63, 95); fill-opacity: 1; white-space: pre;\">0.6</text></g><g class=\"xtick\"><text text-anchor=\"middle\" x=\"0\" y=\"533\" transform=\"translate(878.8,0)\" style=\"font-family: 'Open Sans', verdana, arial, sans-serif; font-size: 12px; fill: rgb(42, 63, 95); fill-opacity: 1; white-space: pre;\">0.7</text></g><g class=\"xtick\"><text text-anchor=\"middle\" x=\"0\" y=\"533\" transform=\"translate(992.91,0)\" style=\"font-family: 'Open Sans', verdana, arial, sans-serif; font-size: 12px; fill: rgb(42, 63, 95); fill-opacity: 1; white-space: pre;\">0.8</text></g><g class=\"xtick\"><text text-anchor=\"middle\" x=\"0\" y=\"533\" transform=\"translate(1107.03,0)\" style=\"font-family: 'Open Sans', verdana, arial, sans-serif; font-size: 12px; fill: rgb(42, 63, 95); fill-opacity: 1; white-space: pre;\">0.9</text></g></g><g class=\"yaxislayer-above\"><g class=\"ytick\"><text text-anchor=\"end\" x=\"79\" y=\"4.199999999999999\" transform=\"translate(0,520)\" style=\"font-family: 'Open Sans', verdana, arial, sans-serif; font-size: 12px; fill: rgb(42, 63, 95); fill-opacity: 1; white-space: pre;\">99</text></g><g class=\"ytick\"><text text-anchor=\"end\" x=\"79\" y=\"4.199999999999999\" transform=\"translate(0,415)\" style=\"font-family: 'Open Sans', verdana, arial, sans-serif; font-size: 12px; fill: rgb(42, 63, 95); fill-opacity: 1; white-space: pre;\">99.5</text></g><g class=\"ytick\"><text text-anchor=\"end\" x=\"79\" y=\"4.199999999999999\" transform=\"translate(0,310)\" style=\"font-family: 'Open Sans', verdana, arial, sans-serif; font-size: 12px; fill: rgb(42, 63, 95); fill-opacity: 1; white-space: pre;\">100</text></g><g class=\"ytick\"><text text-anchor=\"end\" x=\"79\" y=\"4.199999999999999\" transform=\"translate(0,205)\" style=\"font-family: 'Open Sans', verdana, arial, sans-serif; font-size: 12px; fill: rgb(42, 63, 95); fill-opacity: 1; white-space: pre;\">100.5</text></g><g class=\"ytick\"><text text-anchor=\"end\" x=\"79\" y=\"4.199999999999999\" transform=\"translate(0,100)\" style=\"font-family: 'Open Sans', verdana, arial, sans-serif; font-size: 12px; fill: rgb(42, 63, 95); fill-opacity: 1; white-space: pre;\">101</text></g></g><g class=\"overaxes-above\"/></g></g><g class=\"polarlayer\"/><g class=\"ternarylayer\"/><g class=\"geolayer\"/><g class=\"funnelarealayer\"/><g class=\"pielayer\"/><g class=\"treemaplayer\"/><g class=\"sunburstlayer\"/><g class=\"glimages\"/><defs id=\"topdefs-c9e047\"><g class=\"clips\"/></defs><g class=\"layer-above\"><g class=\"imagelayer\"/><g class=\"shapelayer\"/></g><g class=\"infolayer\"><g class=\"g-gtitle\"/><g class=\"g-xtitle\"/><g class=\"g-ytitle\"/></g></svg>"
          },
          "metadata": {
            "tags": []
          }
        }
      ]
    },
    {
      "cell_type": "code",
      "metadata": {
        "id": "0xqNraHYKyhZ"
      },
      "source": [
        "gc.collect()\n",
        "w, action_space = reinforce_fit(env=train, alpha=1e-5, gamma=0.6, epochs=1000)"
      ],
      "execution_count": null,
      "outputs": []
    },
    {
      "cell_type": "code",
      "metadata": {
        "colab": {
          "base_uri": "https://localhost:8080/"
        },
        "id": "HsUnlVMmKt54",
        "outputId": "320b1085-8c7d-4e35-effb-9259daa1134f"
      },
      "source": [
        "reinforce_predict(train, w, action_space, total_test_episodes=1)"
      ],
      "execution_count": 10,
      "outputs": [
        {
          "output_type": "stream",
          "text": [
            "****************************************************\n",
            "EPISODE  0\n",
            "Score -465\n"
          ],
          "name": "stdout"
        },
        {
          "output_type": "stream",
          "text": [
            "/usr/local/lib/python3.7/dist-packages/ipykernel_launcher.py:3: RuntimeWarning:\n",
            "\n",
            "overflow encountered in exp\n",
            "\n"
          ],
          "name": "stderr"
        },
        {
          "output_type": "stream",
          "text": [
            "Reward list: [0, 0, 0, 0, 0, 0, 0, 0, 0, 0, 0, 0, 0, 0, 0, 0, 0, 0, 0, 0, 0, 0, 0, 0, 0, 0, 0, 0, 0, 0, 0, 0, 0, 0, 1, 1, 1, 1, 1, 1, 1, 1, 1, 1, 1, 1, 1, 1, 1, 1, 1, 1, 1, 1, 1, 1, 1, 1, 1, 1, 1, 1, 1, 1, 1, 1, 1, 1, 1, -500]\n",
            "Score over time: -465.0\n"
          ],
          "name": "stdout"
        }
      ]
    },
    {
      "cell_type": "code",
      "metadata": {
        "colab": {
          "base_uri": "https://localhost:8080/",
          "height": 621
        },
        "id": "nrcCQKrVKw6R",
        "outputId": "e8f8b77e-99a8-488b-ebb8-9f3f17529715"
      },
      "source": [
        "df = train.speed_legend()\n",
        "plot_result(df)"
      ],
      "execution_count": 12,
      "outputs": [
        {
          "output_type": "display_data",
          "data": {
            "image/svg+xml": "<svg class=\"main-svg\" xmlns=\"http://www.w3.org/2000/svg\" xmlns:xlink=\"http://www.w3.org/1999/xlink\" width=\"1300\" height=\"600\" viewBox=\"0 0 1300 600\"><rect x=\"0\" y=\"0\" width=\"1300\" height=\"600\" style=\"fill: rgb(255, 255, 255); fill-opacity: 1;\"/><defs id=\"defs-ccf743\"><g class=\"clips\"><clipPath id=\"clipccf743xyplot\" class=\"plotclip\"><rect width=\"1058\" height=\"420\"/></clipPath><clipPath class=\"axesclip\" id=\"clipccf743x\"><rect x=\"80\" y=\"0\" width=\"1058\" height=\"600\"/></clipPath><clipPath class=\"axesclip\" id=\"clipccf743y\"><rect x=\"0\" y=\"100\" width=\"1300\" height=\"420\"/></clipPath><clipPath class=\"axesclip\" id=\"clipccf743xy\"><rect x=\"80\" y=\"100\" width=\"1058\" height=\"420\"/></clipPath></g><g class=\"gradients\"/></defs><g class=\"bglayer\"><rect class=\"bg\" x=\"80\" y=\"100\" width=\"1058\" height=\"420\" style=\"fill: rgb(229, 236, 246); fill-opacity: 1; stroke-width: 0;\"/></g><g class=\"layer-below\"><g class=\"imagelayer\"/><g class=\"shapelayer\"/></g><g class=\"cartesianlayer\"><g class=\"subplot xy\"><g class=\"layer-subplot\"><g class=\"shapelayer\"/><g class=\"imagelayer\"/></g><g class=\"gridlayer\"><g class=\"x\"><path class=\"xgrid crisp\" transform=\"translate(185.91,0)\" d=\"M0,100v420\" style=\"stroke: rgb(255, 255, 255); stroke-opacity: 1; stroke-width: 1px;\"/><path class=\"xgrid crisp\" transform=\"translate(291.81,0)\" d=\"M0,100v420\" style=\"stroke: rgb(255, 255, 255); stroke-opacity: 1; stroke-width: 1px;\"/><path class=\"xgrid crisp\" transform=\"translate(397.72,0)\" d=\"M0,100v420\" style=\"stroke: rgb(255, 255, 255); stroke-opacity: 1; stroke-width: 1px;\"/><path class=\"xgrid crisp\" transform=\"translate(503.62,0)\" d=\"M0,100v420\" style=\"stroke: rgb(255, 255, 255); stroke-opacity: 1; stroke-width: 1px;\"/><path class=\"xgrid crisp\" transform=\"translate(609.53,0)\" d=\"M0,100v420\" style=\"stroke: rgb(255, 255, 255); stroke-opacity: 1; stroke-width: 1px;\"/><path class=\"xgrid crisp\" transform=\"translate(715.44,0)\" d=\"M0,100v420\" style=\"stroke: rgb(255, 255, 255); stroke-opacity: 1; stroke-width: 1px;\"/><path class=\"xgrid crisp\" transform=\"translate(821.34,0)\" d=\"M0,100v420\" style=\"stroke: rgb(255, 255, 255); stroke-opacity: 1; stroke-width: 1px;\"/><path class=\"xgrid crisp\" transform=\"translate(927.25,0)\" d=\"M0,100v420\" style=\"stroke: rgb(255, 255, 255); stroke-opacity: 1; stroke-width: 1px;\"/><path class=\"xgrid crisp\" transform=\"translate(1033.15,0)\" d=\"M0,100v420\" style=\"stroke: rgb(255, 255, 255); stroke-opacity: 1; stroke-width: 1px;\"/></g><g class=\"y\"><path class=\"ygrid crisp\" transform=\"translate(0,428.39)\" d=\"M80,0h1058\" style=\"stroke: rgb(255, 255, 255); stroke-opacity: 1; stroke-width: 1px;\"/><path class=\"ygrid crisp\" transform=\"translate(0,352.3)\" d=\"M80,0h1058\" style=\"stroke: rgb(255, 255, 255); stroke-opacity: 1; stroke-width: 1px;\"/><path class=\"ygrid crisp\" transform=\"translate(0,276.22)\" d=\"M80,0h1058\" style=\"stroke: rgb(255, 255, 255); stroke-opacity: 1; stroke-width: 1px;\"/><path class=\"ygrid crisp\" transform=\"translate(0,200.13)\" d=\"M80,0h1058\" style=\"stroke: rgb(255, 255, 255); stroke-opacity: 1; stroke-width: 1px;\"/><path class=\"ygrid crisp\" transform=\"translate(0,124.03999999999999)\" d=\"M80,0h1058\" style=\"stroke: rgb(255, 255, 255); stroke-opacity: 1; stroke-width: 1px;\"/></g></g><g class=\"zerolinelayer\"><path class=\"xzl zl crisp\" transform=\"translate(80,0)\" d=\"M0,100v420\" style=\"stroke: rgb(255, 255, 255); stroke-opacity: 1; stroke-width: 2px;\"/><path class=\"yzl zl crisp\" transform=\"translate(0,504.48)\" d=\"M80,0h1058\" style=\"stroke: rgb(255, 255, 255); stroke-opacity: 1; stroke-width: 2px;\"/></g><path class=\"xlines-below\"/><path class=\"ylines-below\"/><g class=\"overlines-below\"/><g class=\"xaxislayer-below\"/><g class=\"yaxislayer-below\"/><g class=\"overaxes-below\"/><g class=\"plot\" transform=\"translate(80, 100)\" clip-path=\"url('#clipccf743xyplot')\"><g class=\"scatterlayer mlayer\"><g class=\"trace scatter tracebce3b3\" style=\"stroke-miterlimit: 2; opacity: 1;\"><g class=\"fills\"/><g class=\"errorbars\"/><g class=\"lines\"><path class=\"js-line\" d=\"M0,24.04L1058,24.04\" style=\"vector-effect: non-scaling-stroke; fill: none; stroke: rgb(99, 110, 250); stroke-opacity: 1; stroke-width: 2px; opacity: 1;\"/></g><g class=\"points\"/><g class=\"text\"/></g><g class=\"trace scatter trace0233f8\" style=\"stroke-miterlimit: 2; opacity: 1;\"><g class=\"fills\"/><g class=\"errorbars\"/><g class=\"lines\"><path class=\"js-line\" d=\"M0.21,399L1.91,388.04L3.39,382.57L7.63,371.61L10.38,366.13L17.16,355.17L21.18,349.7L30.5,338.74L35.8,333.26L47.66,322.3L54.22,316.83L68.63,305.87L76.46,300.39L102.52,283.96L112.05,278.48L143.18,262.04L154.41,256.57L190.63,240.13L203.55,234.65L244.85,218.22L259.47,212.74L305.86,196.3L322.17,190.83L373.64,174.39L391.64,168.91L467.89,147L488.01,141.52L572.74,119.61L594.98,114.13L688.18,92.22L712.53,86.74L814.2,64.83L840.68,59.35L950.82,37.43L979.42,31.96L1037.88,21\" style=\"vector-effect: non-scaling-stroke; fill: none; stroke: rgb(239, 85, 59); stroke-opacity: 1; stroke-width: 2px; opacity: 1;\"/></g><g class=\"points\"/><g class=\"text\"/></g></g></g><g class=\"overplot\"/><path class=\"xlines-above crisp\" d=\"M0,0\" style=\"fill: none;\"/><path class=\"ylines-above crisp\" d=\"M0,0\" style=\"fill: none;\"/><g class=\"overlines-above\"/><g class=\"xaxislayer-above\"><g class=\"xtick\"><text text-anchor=\"middle\" x=\"0\" y=\"533\" transform=\"translate(80,0)\" style=\"font-family: 'Open Sans', verdana, arial, sans-serif; font-size: 12px; fill: rgb(42, 63, 95); fill-opacity: 1; white-space: pre;\">0</text></g><g class=\"xtick\"><text text-anchor=\"middle\" x=\"0\" y=\"533\" transform=\"translate(185.91,0)\" style=\"font-family: 'Open Sans', verdana, arial, sans-serif; font-size: 12px; fill: rgb(42, 63, 95); fill-opacity: 1; white-space: pre;\">0.1</text></g><g class=\"xtick\"><text text-anchor=\"middle\" x=\"0\" y=\"533\" transform=\"translate(291.81,0)\" style=\"font-family: 'Open Sans', verdana, arial, sans-serif; font-size: 12px; fill: rgb(42, 63, 95); fill-opacity: 1; white-space: pre;\">0.2</text></g><g class=\"xtick\"><text text-anchor=\"middle\" x=\"0\" y=\"533\" transform=\"translate(397.72,0)\" style=\"font-family: 'Open Sans', verdana, arial, sans-serif; font-size: 12px; fill: rgb(42, 63, 95); fill-opacity: 1; white-space: pre;\">0.3</text></g><g class=\"xtick\"><text text-anchor=\"middle\" x=\"0\" y=\"533\" transform=\"translate(503.62,0)\" style=\"font-family: 'Open Sans', verdana, arial, sans-serif; font-size: 12px; fill: rgb(42, 63, 95); fill-opacity: 1; white-space: pre;\">0.4</text></g><g class=\"xtick\"><text text-anchor=\"middle\" x=\"0\" y=\"533\" transform=\"translate(609.53,0)\" style=\"font-family: 'Open Sans', verdana, arial, sans-serif; font-size: 12px; fill: rgb(42, 63, 95); fill-opacity: 1; white-space: pre;\">0.5</text></g><g class=\"xtick\"><text text-anchor=\"middle\" x=\"0\" y=\"533\" transform=\"translate(715.44,0)\" style=\"font-family: 'Open Sans', verdana, arial, sans-serif; font-size: 12px; fill: rgb(42, 63, 95); fill-opacity: 1; white-space: pre;\">0.6</text></g><g class=\"xtick\"><text text-anchor=\"middle\" x=\"0\" y=\"533\" transform=\"translate(821.34,0)\" style=\"font-family: 'Open Sans', verdana, arial, sans-serif; font-size: 12px; fill: rgb(42, 63, 95); fill-opacity: 1; white-space: pre;\">0.7</text></g><g class=\"xtick\"><text text-anchor=\"middle\" x=\"0\" y=\"533\" transform=\"translate(927.25,0)\" style=\"font-family: 'Open Sans', verdana, arial, sans-serif; font-size: 12px; fill: rgb(42, 63, 95); fill-opacity: 1; white-space: pre;\">0.8</text></g><g class=\"xtick\"><text text-anchor=\"middle\" x=\"0\" y=\"533\" transform=\"translate(1033.15,0)\" style=\"font-family: 'Open Sans', verdana, arial, sans-serif; font-size: 12px; fill: rgb(42, 63, 95); fill-opacity: 1; white-space: pre;\">0.9</text></g></g><g class=\"yaxislayer-above\"><g class=\"ytick\"><text text-anchor=\"end\" x=\"79\" y=\"4.199999999999999\" transform=\"translate(0,504.48)\" style=\"font-family: 'Open Sans', verdana, arial, sans-serif; font-size: 12px; fill: rgb(42, 63, 95); fill-opacity: 1; white-space: pre;\">0</text></g><g class=\"ytick\"><text text-anchor=\"end\" x=\"79\" y=\"4.199999999999999\" transform=\"translate(0,428.39)\" style=\"font-family: 'Open Sans', verdana, arial, sans-serif; font-size: 12px; fill: rgb(42, 63, 95); fill-opacity: 1; white-space: pre;\">20</text></g><g class=\"ytick\"><text text-anchor=\"end\" x=\"79\" y=\"4.199999999999999\" transform=\"translate(0,352.3)\" style=\"font-family: 'Open Sans', verdana, arial, sans-serif; font-size: 12px; fill: rgb(42, 63, 95); fill-opacity: 1; white-space: pre;\">40</text></g><g class=\"ytick\"><text text-anchor=\"end\" x=\"79\" y=\"4.199999999999999\" transform=\"translate(0,276.22)\" style=\"font-family: 'Open Sans', verdana, arial, sans-serif; font-size: 12px; fill: rgb(42, 63, 95); fill-opacity: 1; white-space: pre;\">60</text></g><g class=\"ytick\"><text text-anchor=\"end\" x=\"79\" y=\"4.199999999999999\" transform=\"translate(0,200.13)\" style=\"font-family: 'Open Sans', verdana, arial, sans-serif; font-size: 12px; fill: rgb(42, 63, 95); fill-opacity: 1; white-space: pre;\">80</text></g><g class=\"ytick\"><text text-anchor=\"end\" x=\"79\" y=\"4.199999999999999\" transform=\"translate(0,124.03999999999999)\" style=\"font-family: 'Open Sans', verdana, arial, sans-serif; font-size: 12px; fill: rgb(42, 63, 95); fill-opacity: 1; white-space: pre;\">100</text></g></g><g class=\"overaxes-above\"/></g></g><g class=\"polarlayer\"/><g class=\"ternarylayer\"/><g class=\"geolayer\"/><g class=\"funnelarealayer\"/><g class=\"pielayer\"/><g class=\"treemaplayer\"/><g class=\"sunburstlayer\"/><g class=\"glimages\"/><defs id=\"topdefs-ccf743\"><g class=\"clips\"/><clipPath id=\"legendccf743\"><rect width=\"129\" height=\"48\" x=\"0\" y=\"0\"/></clipPath></defs><g class=\"layer-above\"><g class=\"imagelayer\"/><g class=\"shapelayer\"/></g><g class=\"infolayer\"><g class=\"legend\" pointer-events=\"all\" transform=\"translate(1159.16, 100)\"><rect class=\"bg\" shape-rendering=\"crispEdges\" width=\"129\" height=\"48\" x=\"0\" y=\"0\" style=\"stroke: rgb(68, 68, 68); stroke-opacity: 1; fill: rgb(255, 255, 255); fill-opacity: 1; stroke-width: 0px;\"/><g class=\"scrollbox\" transform=\"translate(0, 0)\" clip-path=\"url('#legendccf743')\"><g class=\"groups\"><g class=\"traces\" transform=\"translate(0, 14.5)\" style=\"opacity: 1;\"><text class=\"legendtext user-select-none\" text-anchor=\"start\" x=\"40\" y=\"4.680000000000001\" style=\"font-family: 'Open Sans', verdana, arial, sans-serif; font-size: 12px; fill: rgb(42, 63, 95); fill-opacity: 1; white-space: pre;\">speed limit</text><g class=\"layers\" style=\"opacity: 1;\"><g class=\"legendfill\"/><g class=\"legendlines\"><path class=\"js-line\" d=\"M5,0h30\" style=\"fill: none; stroke: rgb(99, 110, 250); stroke-opacity: 1; stroke-width: 2px;\"/></g><g class=\"legendsymbols\"><g class=\"legendpoints\"/></g></g><rect class=\"legendtoggle\" pointer-events=\"all\" x=\"0\" y=\"-9.5\" width=\"123.359375\" height=\"19\" style=\"cursor: pointer; fill: rgb(0, 0, 0); fill-opacity: 0;\"/></g><g class=\"traces\" transform=\"translate(0, 33.5)\" style=\"opacity: 1;\"><text class=\"legendtext user-select-none\" text-anchor=\"start\" x=\"40\" y=\"4.680000000000001\" style=\"font-family: 'Open Sans', verdana, arial, sans-serif; font-size: 12px; fill: rgb(42, 63, 95); fill-opacity: 1; white-space: pre;\">train movement</text><g class=\"layers\" style=\"opacity: 1;\"><g class=\"legendfill\"/><g class=\"legendlines\"><path class=\"js-line\" d=\"M5,0h30\" style=\"fill: none; stroke: rgb(239, 85, 59); stroke-opacity: 1; stroke-width: 2px;\"/></g><g class=\"legendsymbols\"><g class=\"legendpoints\"/></g></g><rect class=\"legendtoggle\" pointer-events=\"all\" x=\"0\" y=\"-9.5\" width=\"123.359375\" height=\"19\" style=\"cursor: pointer; fill: rgb(0, 0, 0); fill-opacity: 0;\"/></g></g></g><rect class=\"scrollbar\" rx=\"20\" ry=\"3\" width=\"0\" height=\"0\" x=\"0\" y=\"0\" style=\"fill: rgb(128, 139, 164); fill-opacity: 1;\"/></g><g class=\"g-gtitle\"/><g class=\"g-xtitle\"/><g class=\"g-ytitle\"/></g></svg>"
          },
          "metadata": {
            "tags": []
          }
        }
      ]
    }
  ]
}