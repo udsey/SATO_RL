{
  "nbformat": 4,
  "nbformat_minor": 0,
  "metadata": {
    "colab": {
      "name": "DQN_mountain_car.ipynb",
      "provenance": [],
      "collapsed_sections": [],
      "authorship_tag": "ABX9TyPmFlc44t6/rceTQegQ7VtG",
      "include_colab_link": true
    },
    "kernelspec": {
      "name": "python3",
      "display_name": "Python 3"
    },
    "language_info": {
      "name": "python"
    }
  },
  "cells": [
    {
      "cell_type": "markdown",
      "metadata": {
        "id": "view-in-github",
        "colab_type": "text"
      },
      "source": [
        "<a href=\"https://colab.research.google.com/github/udsey/SATO_RL/blob/main/exmpls/DQN_mountain_car.ipynb\" target=\"_parent\"><img src=\"https://colab.research.google.com/assets/colab-badge.svg\" alt=\"Open In Colab\"/></a>"
      ]
    },
    {
      "cell_type": "markdown",
      "metadata": {
        "id": "K_4TPITII5i7"
      },
      "source": [
        "https://www.machinelearningmastery.ru/reinforcement-learning-w-keras-openai-dqns-1eed3a5338c/"
      ]
    },
    {
      "cell_type": "code",
      "metadata": {
        "id": "R8-BmGwxINYE"
      },
      "source": [
        "import gym\n",
        "import numpy as np\n",
        "import random\n",
        "from keras.models import Sequential\n",
        "from keras.layers import Dense, Dropout\n",
        "from keras.optimizers import Adam\n",
        "from collections import deque\n",
        "\n",
        "\n",
        "class DQN:\n",
        "    def __init__(self, env):\n",
        "        self.env = env\n",
        "        self.memory = deque(maxlen=2000)\n",
        "        \n",
        "        self.gamma = 0.85\n",
        "        self.epsilon = 1.0\n",
        "        self.epsilon_min = 0.01\n",
        "        self.epsilon_decay = 0.995\n",
        "        self.learning_rate = 0.005\n",
        "        self.tau = .125\n",
        "\n",
        "        self.model = self.create_model()\n",
        "        self.target_model = self.create_model()\n",
        "\n",
        "    def create_model(self):\n",
        "        model   = Sequential()\n",
        "        state_shape  = self.env.observation_space.shape\n",
        "        model.add(Dense(24, input_dim=state_shape[0], activation=\"relu\"))\n",
        "        model.add(Dense(48, activation=\"relu\"))\n",
        "        model.add(Dense(24, activation=\"relu\"))\n",
        "        model.add(Dense(self.env.action_space.n))\n",
        "        model.compile(loss=\"mean_squared_error\",\n",
        "            optimizer=Adam(learning_rate=self.learning_rate))\n",
        "        return model\n",
        "\n",
        "    def act(self, state):\n",
        "        self.epsilon *= self.epsilon_decay\n",
        "        self.epsilon = max(self.epsilon_min, self.epsilon)\n",
        "        if np.random.random() < self.epsilon:\n",
        "            return self.env.action_space.sample()\n",
        "        else:\n",
        "            return np.argmax(self.model.predict(state)[0])\n",
        "\n",
        "    def remember(self, state, action, reward, new_state, done):\n",
        "        self.memory.append([state, action, reward, new_state, done])\n",
        "\n",
        "    def replay(self):\n",
        "        batch_size = 32\n",
        "        if len(self.memory) < batch_size: \n",
        "            return\n",
        "\n",
        "        samples = random.sample(self.memory, batch_size)\n",
        "        for sample in samples:\n",
        "            state, action, reward, new_state, done = sample\n",
        "            target = self.target_model.predict(state)\n",
        "            if done:\n",
        "                target[0][action] = reward\n",
        "            else:\n",
        "                Q_future = max(self.target_model.predict(new_state)[0])\n",
        "                target[0][action] = reward + Q_future * self.gamma\n",
        "            self.model.fit(state, target, epochs=1, verbose=0)\n",
        "\n",
        "    def target_train(self):\n",
        "        weights = self.model.get_weights()\n",
        "        target_weights = self.target_model.get_weights()\n",
        "        for i in range(len(target_weights)):\n",
        "            target_weights[i] = weights[i] * self.tau + target_weights[i] * (1 - self.tau)\n",
        "        self.target_model.set_weights(target_weights)\n",
        "\n",
        "    def save_model(self, fn):\n",
        "        self.model.save(fn)\n",
        "\n",
        "def main():\n",
        "    env     = gym.make(\"MountainCar-v0\")\n",
        "    gamma   = 0.9\n",
        "    epsilon = .95\n",
        "\n",
        "    trials  = 1000\n",
        "    trial_len = 500\n",
        "\n",
        "    # updateTargetNetwork = 1000\n",
        "    dqn_agent = DQN(env=env)\n",
        "    steps = []\n",
        "    for trial in range(trials):\n",
        "        cur_state = env.reset().reshape(1,2)\n",
        "        for step in range(trial_len):\n",
        "            action = dqn_agent.act(cur_state)\n",
        "            new_state, reward, done, _ = env.step(action)\n",
        "\n",
        "            # reward = reward if not done else -20\n",
        "            new_state = new_state.reshape(1,2)\n",
        "            dqn_agent.remember(cur_state, action, reward, new_state, done)\n",
        "            \n",
        "            dqn_agent.replay()       # internally iterates default (prediction) model\n",
        "            dqn_agent.target_train() # iterates target model\n",
        "\n",
        "            cur_state = new_state\n",
        "            if done:\n",
        "                break\n",
        "        if step >= 199:\n",
        "            print(\"Failed to complete in trial {}\".format(trial))\n",
        "            if step % 10 == 0:\n",
        "                dqn_agent.save_model(\"trial-{}.model\".format(trial))\n",
        "        else:\n",
        "            print(\"Completed in {} trials\".format(trial))\n",
        "            dqn_agent.save_model(\"success.model\")\n",
        "            break"
      ],
      "execution_count": 1,
      "outputs": []
    },
    {
      "cell_type": "code",
      "metadata": {
        "colab": {
          "base_uri": "https://localhost:8080/"
        },
        "id": "Ms-y9VfYJD1p",
        "outputId": "c48ca717-2553-43ba-d128-08a46b0c6517"
      },
      "source": [
        "main()"
      ],
      "execution_count": null,
      "outputs": [
        {
          "output_type": "stream",
          "text": [
            "/usr/local/lib/python3.7/dist-packages/tensorflow/python/keras/optimizer_v2/optimizer_v2.py:375: UserWarning: The `lr` argument is deprecated, use `learning_rate` instead.\n",
            "  \"The `lr` argument is deprecated, use `learning_rate` instead.\")\n"
          ],
          "name": "stderr"
        }
      ]
    }
  ]
}